{
  "nbformat": 4,
  "nbformat_minor": 0,
  "metadata": {
    "colab": {
      "provenance": []
    },
    "kernelspec": {
      "name": "python3",
      "display_name": "Python 3"
    },
    "language_info": {
      "name": "python"
    }
  },
  "cells": [
    {
      "cell_type": "code",
      "source": [
        "import pandas as pd"
      ],
      "metadata": {
        "id": "NvLWrsr1nHJ5"
      },
      "execution_count": null,
      "outputs": []
    },
    {
      "cell_type": "code",
      "source": [
        "# (a)"
      ],
      "metadata": {
        "id": "Nl2MlGj5O0vo"
      },
      "execution_count": null,
      "outputs": []
    },
    {
      "cell_type": "code",
      "source": [
        "df_collision_mitigation_braking = pd.read_json(\"/content/drive/MyDrive/collision_mitigation_braking.json\")"
      ],
      "metadata": {
        "id": "2uxXVzT9UNcA"
      },
      "execution_count": null,
      "outputs": []
    },
    {
      "cell_type": "code",
      "source": [
        "df_esc_alert = pd.read_json(\"/content/drive/MyDrive/esc_alert.json\")"
      ],
      "metadata": {
        "id": "QrAiVexOo1Qa"
      },
      "execution_count": null,
      "outputs": []
    },
    {
      "cell_type": "code",
      "source": [
        "df_forward_collision_warning = pd.read_json(\"/content/drive/MyDrive/forward_collision_warning.json\")"
      ],
      "metadata": {
        "id": "lPqWqaKus5n_"
      },
      "execution_count": null,
      "outputs": []
    },
    {
      "cell_type": "code",
      "source": [
        "df_large_set = pd.read_json(\"/content/drive/MyDrive/large_set.json\")"
      ],
      "metadata": {
        "id": "M8GWugb2tKG_"
      },
      "execution_count": null,
      "outputs": []
    },
    {
      "cell_type": "markdown",
      "source": [],
      "metadata": {
        "id": "vyGphUlVr-B0"
      }
    },
    {
      "cell_type": "code",
      "source": [
        "df_rsc_engine_alert = pd.read_json(\"/content/drive/MyDrive/rsc_engine_alert.json\")"
      ],
      "metadata": {
        "id": "QzWO8NMMtT_X"
      },
      "execution_count": null,
      "outputs": []
    },
    {
      "cell_type": "code",
      "source": [
        "df_collision_mitigation_braking.columns"
      ],
      "metadata": {
        "colab": {
          "base_uri": "https://localhost:8080/"
        },
        "id": "-zS58HMqtjl1",
        "outputId": "1a3ed609-424f-4e1e-ed29-35813033fb6a"
      },
      "execution_count": null,
      "outputs": [
        {
          "output_type": "execute_result",
          "data": {
            "text/plain": [
              "Index(['version', 'type', 'vin', 'dataSource', 'trigger', 'sparse', 'seq',\n",
              "       'endTimestamp'],\n",
              "      dtype='object')"
            ]
          },
          "metadata": {},
          "execution_count": 118
        }
      ]
    },
    {
      "cell_type": "code",
      "source": [
        "df_esc_alert.columns"
      ],
      "metadata": {
        "colab": {
          "base_uri": "https://localhost:8080/"
        },
        "id": "Irp4p1YktpWa",
        "outputId": "a47bc66f-8368-4c43-f586-8e7bac4f7969"
      },
      "execution_count": null,
      "outputs": [
        {
          "output_type": "execute_result",
          "data": {
            "text/plain": [
              "Index(['seq', 'version', 'endTimestamp', 'type', 'vin', 'dataSource', 'sparse',\n",
              "       'trigger'],\n",
              "      dtype='object')"
            ]
          },
          "metadata": {},
          "execution_count": 119
        }
      ]
    },
    {
      "cell_type": "code",
      "source": [
        "df_forward_collision_warning.columns"
      ],
      "metadata": {
        "colab": {
          "base_uri": "https://localhost:8080/"
        },
        "id": "-ob-m_jluM7S",
        "outputId": "cf225f2c-4f9f-4e12-cd7b-dee041210028"
      },
      "execution_count": null,
      "outputs": [
        {
          "output_type": "execute_result",
          "data": {
            "text/plain": [
              "Index(['seq', 'version', 'endTimestamp', 'type', 'vin', 'dataSource',\n",
              "       'trigger', 'sparse'],\n",
              "      dtype='object')"
            ]
          },
          "metadata": {},
          "execution_count": 120
        }
      ]
    },
    {
      "cell_type": "code",
      "source": [
        "df_large_set.columns"
      ],
      "metadata": {
        "colab": {
          "base_uri": "https://localhost:8080/"
        },
        "id": "GfmDI52Huogq",
        "outputId": "cdc0d9d7-83fc-49db-a601-eac26da33906"
      },
      "execution_count": null,
      "outputs": [
        {
          "output_type": "execute_result",
          "data": {
            "text/plain": [
              "Index(['seq', 'version', 'endTimestamp', 'type', 'vin', 'dataSource', 'sparse',\n",
              "       'trigger'],\n",
              "      dtype='object')"
            ]
          },
          "metadata": {},
          "execution_count": 121
        }
      ]
    },
    {
      "cell_type": "code",
      "source": [
        "df_rsc_engine_alert.columns"
      ],
      "metadata": {
        "colab": {
          "base_uri": "https://localhost:8080/"
        },
        "id": "ci3-9yCdurci",
        "outputId": "c1667059-87ad-48d3-ac5f-ff915fd15324"
      },
      "execution_count": null,
      "outputs": [
        {
          "output_type": "execute_result",
          "data": {
            "text/plain": [
              "Index(['seq', 'version', 'endTimestamp', 'type', 'vin', 'dataSource', 'sparse',\n",
              "       'trigger'],\n",
              "      dtype='object')"
            ]
          },
          "metadata": {},
          "execution_count": 122
        }
      ]
    },
    {
      "cell_type": "code",
      "source": [
        "df_rsc_engine_alert.head(5)"
      ],
      "metadata": {
        "colab": {
          "base_uri": "https://localhost:8080/",
          "height": 206
        },
        "id": "qlhNbqwCuuR1",
        "outputId": "ee65bd11-91cc-4d8b-f0d2-87bab4647fd8"
      },
      "execution_count": null,
      "outputs": [
        {
          "output_type": "execute_result",
          "data": {
            "text/plain": [
              "      seq  version  endTimestamp       type                vin  \\\n",
              "0  9615.0        8  1.664150e+12  analytics  1FUJAPCK25DU88948   \n",
              "1  9616.0        8  1.664151e+12  analytics  1FUJAPCK25DU88948   \n",
              "2  9617.0        8  1.664151e+12  analytics  1FUJAPCK25DU88948   \n",
              "3  9618.0        8  1.664151e+12  analytics  1FUJAPCK25DU88948   \n",
              "4  9619.0        8  1.664151e+12  analytics  1FUJAPCK25DU88948   \n",
              "\n",
              "                                dataSource  \\\n",
              "0  {'ctpSource': {'serial': 'XXXXXXXXXX'}}   \n",
              "1  {'ctpSource': {'serial': 'XXXXXXXXXX'}}   \n",
              "2  {'ctpSource': {'serial': 'XXXXXXXXXX'}}   \n",
              "3  {'ctpSource': {'serial': 'XXXXXXXXXX'}}   \n",
              "4  {'ctpSource': {'serial': 'XXXXXXXXXX'}}   \n",
              "\n",
              "                                              sparse trigger  \n",
              "0  [{'timestamp': 1664150446000, 'decomposedMessa...     NaN  \n",
              "1  [{'timestamp': 1664150566000, 'decomposedMessa...     NaN  \n",
              "2  [{'timestamp': 1664150686000, 'decomposedMessa...     NaN  \n",
              "3  [{'timestamp': 1664150806000, 'decomposedMessa...     NaN  \n",
              "4  [{'timestamp': 1664150926000, 'decomposedMessa...     NaN  "
            ],
            "text/html": [
              "\n",
              "  <div id=\"df-4fa850dc-94b3-41f4-a0ec-960af67f7150\">\n",
              "    <div class=\"colab-df-container\">\n",
              "      <div>\n",
              "<style scoped>\n",
              "    .dataframe tbody tr th:only-of-type {\n",
              "        vertical-align: middle;\n",
              "    }\n",
              "\n",
              "    .dataframe tbody tr th {\n",
              "        vertical-align: top;\n",
              "    }\n",
              "\n",
              "    .dataframe thead th {\n",
              "        text-align: right;\n",
              "    }\n",
              "</style>\n",
              "<table border=\"1\" class=\"dataframe\">\n",
              "  <thead>\n",
              "    <tr style=\"text-align: right;\">\n",
              "      <th></th>\n",
              "      <th>seq</th>\n",
              "      <th>version</th>\n",
              "      <th>endTimestamp</th>\n",
              "      <th>type</th>\n",
              "      <th>vin</th>\n",
              "      <th>dataSource</th>\n",
              "      <th>sparse</th>\n",
              "      <th>trigger</th>\n",
              "    </tr>\n",
              "  </thead>\n",
              "  <tbody>\n",
              "    <tr>\n",
              "      <th>0</th>\n",
              "      <td>9615.0</td>\n",
              "      <td>8</td>\n",
              "      <td>1.664150e+12</td>\n",
              "      <td>analytics</td>\n",
              "      <td>1FUJAPCK25DU88948</td>\n",
              "      <td>{'ctpSource': {'serial': 'XXXXXXXXXX'}}</td>\n",
              "      <td>[{'timestamp': 1664150446000, 'decomposedMessa...</td>\n",
              "      <td>NaN</td>\n",
              "    </tr>\n",
              "    <tr>\n",
              "      <th>1</th>\n",
              "      <td>9616.0</td>\n",
              "      <td>8</td>\n",
              "      <td>1.664151e+12</td>\n",
              "      <td>analytics</td>\n",
              "      <td>1FUJAPCK25DU88948</td>\n",
              "      <td>{'ctpSource': {'serial': 'XXXXXXXXXX'}}</td>\n",
              "      <td>[{'timestamp': 1664150566000, 'decomposedMessa...</td>\n",
              "      <td>NaN</td>\n",
              "    </tr>\n",
              "    <tr>\n",
              "      <th>2</th>\n",
              "      <td>9617.0</td>\n",
              "      <td>8</td>\n",
              "      <td>1.664151e+12</td>\n",
              "      <td>analytics</td>\n",
              "      <td>1FUJAPCK25DU88948</td>\n",
              "      <td>{'ctpSource': {'serial': 'XXXXXXXXXX'}}</td>\n",
              "      <td>[{'timestamp': 1664150686000, 'decomposedMessa...</td>\n",
              "      <td>NaN</td>\n",
              "    </tr>\n",
              "    <tr>\n",
              "      <th>3</th>\n",
              "      <td>9618.0</td>\n",
              "      <td>8</td>\n",
              "      <td>1.664151e+12</td>\n",
              "      <td>analytics</td>\n",
              "      <td>1FUJAPCK25DU88948</td>\n",
              "      <td>{'ctpSource': {'serial': 'XXXXXXXXXX'}}</td>\n",
              "      <td>[{'timestamp': 1664150806000, 'decomposedMessa...</td>\n",
              "      <td>NaN</td>\n",
              "    </tr>\n",
              "    <tr>\n",
              "      <th>4</th>\n",
              "      <td>9619.0</td>\n",
              "      <td>8</td>\n",
              "      <td>1.664151e+12</td>\n",
              "      <td>analytics</td>\n",
              "      <td>1FUJAPCK25DU88948</td>\n",
              "      <td>{'ctpSource': {'serial': 'XXXXXXXXXX'}}</td>\n",
              "      <td>[{'timestamp': 1664150926000, 'decomposedMessa...</td>\n",
              "      <td>NaN</td>\n",
              "    </tr>\n",
              "  </tbody>\n",
              "</table>\n",
              "</div>\n",
              "      <button class=\"colab-df-convert\" onclick=\"convertToInteractive('df-4fa850dc-94b3-41f4-a0ec-960af67f7150')\"\n",
              "              title=\"Convert this dataframe to an interactive table.\"\n",
              "              style=\"display:none;\">\n",
              "        \n",
              "  <svg xmlns=\"http://www.w3.org/2000/svg\" height=\"24px\"viewBox=\"0 0 24 24\"\n",
              "       width=\"24px\">\n",
              "    <path d=\"M0 0h24v24H0V0z\" fill=\"none\"/>\n",
              "    <path d=\"M18.56 5.44l.94 2.06.94-2.06 2.06-.94-2.06-.94-.94-2.06-.94 2.06-2.06.94zm-11 1L8.5 8.5l.94-2.06 2.06-.94-2.06-.94L8.5 2.5l-.94 2.06-2.06.94zm10 10l.94 2.06.94-2.06 2.06-.94-2.06-.94-.94-2.06-.94 2.06-2.06.94z\"/><path d=\"M17.41 7.96l-1.37-1.37c-.4-.4-.92-.59-1.43-.59-.52 0-1.04.2-1.43.59L10.3 9.45l-7.72 7.72c-.78.78-.78 2.05 0 2.83L4 21.41c.39.39.9.59 1.41.59.51 0 1.02-.2 1.41-.59l7.78-7.78 2.81-2.81c.8-.78.8-2.07 0-2.86zM5.41 20L4 18.59l7.72-7.72 1.47 1.35L5.41 20z\"/>\n",
              "  </svg>\n",
              "      </button>\n",
              "      \n",
              "  <style>\n",
              "    .colab-df-container {\n",
              "      display:flex;\n",
              "      flex-wrap:wrap;\n",
              "      gap: 12px;\n",
              "    }\n",
              "\n",
              "    .colab-df-convert {\n",
              "      background-color: #E8F0FE;\n",
              "      border: none;\n",
              "      border-radius: 50%;\n",
              "      cursor: pointer;\n",
              "      display: none;\n",
              "      fill: #1967D2;\n",
              "      height: 32px;\n",
              "      padding: 0 0 0 0;\n",
              "      width: 32px;\n",
              "    }\n",
              "\n",
              "    .colab-df-convert:hover {\n",
              "      background-color: #E2EBFA;\n",
              "      box-shadow: 0px 1px 2px rgba(60, 64, 67, 0.3), 0px 1px 3px 1px rgba(60, 64, 67, 0.15);\n",
              "      fill: #174EA6;\n",
              "    }\n",
              "\n",
              "    [theme=dark] .colab-df-convert {\n",
              "      background-color: #3B4455;\n",
              "      fill: #D2E3FC;\n",
              "    }\n",
              "\n",
              "    [theme=dark] .colab-df-convert:hover {\n",
              "      background-color: #434B5C;\n",
              "      box-shadow: 0px 1px 3px 1px rgba(0, 0, 0, 0.15);\n",
              "      filter: drop-shadow(0px 1px 2px rgba(0, 0, 0, 0.3));\n",
              "      fill: #FFFFFF;\n",
              "    }\n",
              "  </style>\n",
              "\n",
              "      <script>\n",
              "        const buttonEl =\n",
              "          document.querySelector('#df-4fa850dc-94b3-41f4-a0ec-960af67f7150 button.colab-df-convert');\n",
              "        buttonEl.style.display =\n",
              "          google.colab.kernel.accessAllowed ? 'block' : 'none';\n",
              "\n",
              "        async function convertToInteractive(key) {\n",
              "          const element = document.querySelector('#df-4fa850dc-94b3-41f4-a0ec-960af67f7150');\n",
              "          const dataTable =\n",
              "            await google.colab.kernel.invokeFunction('convertToInteractive',\n",
              "                                                     [key], {});\n",
              "          if (!dataTable) return;\n",
              "\n",
              "          const docLinkHtml = 'Like what you see? Visit the ' +\n",
              "            '<a target=\"_blank\" href=https://colab.research.google.com/notebooks/data_table.ipynb>data table notebook</a>'\n",
              "            + ' to learn more about interactive tables.';\n",
              "          element.innerHTML = '';\n",
              "          dataTable['output_type'] = 'display_data';\n",
              "          await google.colab.output.renderOutput(dataTable, element);\n",
              "          const docLink = document.createElement('div');\n",
              "          docLink.innerHTML = docLinkHtml;\n",
              "          element.appendChild(docLink);\n",
              "        }\n",
              "      </script>\n",
              "    </div>\n",
              "  </div>\n",
              "  "
            ]
          },
          "metadata": {},
          "execution_count": 123
        }
      ]
    },
    {
      "cell_type": "code",
      "source": [
        "df_rsc_engine_alert.shape"
      ],
      "metadata": {
        "colab": {
          "base_uri": "https://localhost:8080/"
        },
        "id": "bKqcx4WgwL9H",
        "outputId": "eb5efbaa-2f33-4bfa-f1fa-023313c599f2"
      },
      "execution_count": null,
      "outputs": [
        {
          "output_type": "execute_result",
          "data": {
            "text/plain": [
              "(846, 8)"
            ]
          },
          "metadata": {},
          "execution_count": 124
        }
      ]
    },
    {
      "cell_type": "code",
      "source": [
        "df_rsc_engine_alert['sparse'][2][1]['decomposedMessages']"
      ],
      "metadata": {
        "colab": {
          "base_uri": "https://localhost:8080/"
        },
        "id": "PmNDskbZvZku",
        "outputId": "04336b20-9f69-4025-b92e-7548dbbf221e"
      },
      "execution_count": null,
      "outputs": [
        {
          "output_type": "execute_result",
          "data": {
            "text/plain": [
              "[{'signal': 'ABA_DistToObj_Cval', 'value': 135},\n",
              " {'signal': 'AccelPdlPos_Cval', 'value': 100},\n",
              " {'signal': 'DEF_Conv_Cval', 'value': 0.71},\n",
              " {'signal': 'EngRPM_Cval_CPC3', 'value': 1213.25},\n",
              " {'signal': 'EngTrq_Cval_PT', 'value': 806},\n",
              " {'signal': 'DistToFwdVeh_Cval', 'value': 255},\n",
              " {'signal': 'StwAngl_Cval', 'value': -0.352515624999998},\n",
              " {'signal': 'HRTotalFuelCons_Cval_ICUC', 'value': 113452.43},\n",
              " {'signal': 'TotalVehDist_Cval_CPC', 'value': 367039790},\n",
              " {'signal': 'TxOilTemp_Cval_CPC', 'value': 72.78125},\n",
              " {'signal': 'VehSpd_Cval_CPC', 'value': 104.90625},\n",
              " {'signal': 'Accel_X_Cval', 'value': -0.8999996},\n",
              " {'signal': 'Accel_Y_Cval', 'value': 0.28028515625},\n",
              " {'signal': 'YawRate_Cval_BS', 'value': 0.0078564453125}]"
            ]
          },
          "metadata": {},
          "execution_count": 125
        }
      ]
    },
    {
      "cell_type": "code",
      "source": [
        "import pandas as pd\n",
        "\n",
        "import numpy as np\n",
        "\n",
        "\n",
        "engine_speed = []\n",
        "\n",
        "fuel_consumption = []\n",
        "\n",
        "gear = []\n",
        "\n",
        "for i in range(846):\n",
        "  for j in range(len(df_rsc_engine_alert['sparse'][i])):\n",
        "    for k in range(len(df_rsc_engine_alert['sparse'][i][j]['decomposedMessages'])):\n",
        "      if  df_rsc_engine_alert['sparse'][i][j]['decomposedMessages'][k]['signal'] == 'EngRPM_Cval_CPC3':\n",
        "        engine_speed.append((df_rsc_engine_alert['sparse'][i][j]['timestamp'], df_rsc_engine_alert['sparse'][i][j]['decomposedMessages'][k]['value']))\n",
        "    for m in range(len(df_rsc_engine_alert['sparse'][i][j]['decomposedMessages'])):\n",
        "      if  df_rsc_engine_alert['sparse'][i][j]['decomposedMessages'][m]['signal'] == 'HRTotalFuelCons_Cval_ICUC':\n",
        "        fuel_consumption.append((df_rsc_engine_alert['sparse'][i][j]['timestamp'], df_rsc_engine_alert['sparse'][i][j]['decomposedMessages'][m]['value']))\n",
        "    for n in range(len(df_rsc_engine_alert['sparse'][i][j]['decomposedMessages'])):\n",
        "      if  df_rsc_engine_alert['sparse'][i][j]['decomposedMessages'][n]['signal'] == 'TxCurrGr_Stat':\n",
        "        gear.append((df_rsc_engine_alert['sparse'][i][j]['timestamp'], df_rsc_engine_alert['sparse'][i][j]['decomposedMessages'][n]['value']))\n",
        "\n",
        "\n",
        "#for i in range(846):\n",
        "#  for j in range(len(df_rsc_engine_alert['sparse'][i])):\n",
        "#    for k in range(len(df_rsc_engine_alert['sparse'][i][j]['decomposedMessages'])):\n",
        "#      if  df_rsc_engine_alert['sparse'][i][j]['decomposedMessages'][k]['signal'] == 'HRTotalFuelCons_Cval_ICUC':\n",
        "#        fuel_consumption.append(df_rsc_engine_alert['sparse'][i][j]['decomposedMessages'][k]['value'])"
      ],
      "metadata": {
        "id": "c6ELUV51wFS6"
      },
      "execution_count": null,
      "outputs": []
    },
    {
      "cell_type": "code",
      "source": [
        "df_rsc_engine_alert['sparse'][1][0]"
      ],
      "metadata": {
        "colab": {
          "base_uri": "https://localhost:8080/"
        },
        "id": "UDKWSj1DjyUX",
        "outputId": "a1e4b729-6970-4aaf-ba3a-68821e470dab"
      },
      "execution_count": null,
      "outputs": [
        {
          "output_type": "execute_result",
          "data": {
            "text/plain": [
              "{'timestamp': 1664150566000,\n",
              " 'decomposedMessages': [{'signal': 'ABA_DistToObj_Cval', 'value': 191},\n",
              "  {'signal': 'DEF_Conv_Cval', 'value': 0.34},\n",
              "  {'signal': 'EngRPM_Cval_CPC3', 'value': 1094.625},\n",
              "  {'signal': 'EngTrq_Cval_PT', 'value': 2367.6},\n",
              "  {'signal': 'StwAngl_Cval', 'value': -0.268531249999998},\n",
              "  {'signal': 'HRTotalFuelCons_Cval_ICUC', 'value': 113451.055},\n",
              "  {'signal': 'TotalVehDist_Cval_CPC', 'value': 367036410},\n",
              "  {'signal': 'TxOilTemp_Cval_CPC', 'value': 73},\n",
              "  {'signal': 'VehSpd_Cval_CPC', 'value': 94.09766},\n",
              "  {'signal': 'Accel_X_Cval', 'value': 0.6999998},\n",
              "  {'signal': 'Accel_Y_Cval', 'value': 0.1801875},\n",
              "  {'signal': 'YawRate_Cval_BS', 'value': -0.002519531249999}]}"
            ]
          },
          "metadata": {},
          "execution_count": 135
        }
      ]
    },
    {
      "cell_type": "code",
      "source": [
        "ts1 = []\n",
        "\n",
        "for i in range(len(engine_speed)):\n",
        "  ts1.append(engine_speed[i][0]['timestamp'])\n"
      ],
      "metadata": {
        "id": "DF7EeOJ2jF04"
      },
      "execution_count": null,
      "outputs": []
    },
    {
      "cell_type": "code",
      "source": [
        "f = []\n",
        "\n",
        "for i in range(len(fuel_consumption)):\n",
        "  f.append(fuel_consumption[i][1])\n",
        "\n",
        "plt.hist(f, bins=10)"
      ],
      "metadata": {
        "colab": {
          "base_uri": "https://localhost:8080/",
          "height": 369
        },
        "id": "fkFgJcjAjmn3",
        "outputId": "d71a0154-8fa8-43ca-99a9-b5c88ab579ab"
      },
      "execution_count": null,
      "outputs": [
        {
          "output_type": "execute_result",
          "data": {
            "text/plain": [
              "(array([11187.,  2861., 16438.,  7920.,  3800.,  2483.,  5093.,  4166.,\n",
              "         4594.,  5153.]),\n",
              " array([113449.18 , 113478.918, 113508.656, 113538.394, 113568.132,\n",
              "        113597.87 , 113627.608, 113657.346, 113687.084, 113716.822,\n",
              "        113746.56 ]),\n",
              " <a list of 10 Patch objects>)"
            ]
          },
          "metadata": {},
          "execution_count": 138
        },
        {
          "output_type": "display_data",
          "data": {
            "text/plain": [
              "<Figure size 432x288 with 1 Axes>"
            ],
            "image/png": "[encoded data removed]"
          },
          "metadata": {
            "needs_background": "light"
          }
        }
      ]
    },
    {
      "cell_type": "code",
      "source": [
        "len(gear)"
      ],
      "metadata": {
        "colab": {
          "base_uri": "https://localhost:8080/"
        },
        "id": "9CgelGLgUJkD",
        "outputId": "4ff64b50-a53b-4c69-e2fc-0134e00991d8"
      },
      "execution_count": null,
      "outputs": [
        {
          "output_type": "execute_result",
          "data": {
            "text/plain": [
              "3040"
            ]
          },
          "metadata": {},
          "execution_count": 127
        }
      ]
    },
    {
      "cell_type": "code",
      "source": [
        "new_list = []\n",
        "\n",
        "#for i in range(len(engine_speed)):\n",
        "#  for j in range(len(fuel_consumption)):\n",
        "#    if engine_speed[i][0] == fuel_consumption[j][0]:\n",
        "#      new_list.append((engine_speed[i][1], fuel_consumption[j][1]))\n",
        "\n",
        "for i in range(2000):\n",
        "  for j in range(2000):\n",
        "    for k in range(2000):\n",
        "      if engine_speed[i][0] == fuel_consumption[j][0]:\n",
        "        if engine_speed[i][0] == gear[k][0]:\n",
        "          new_list.append((engine_speed[i][1], gear[k][1], fuel_consumption[j][1]))"
      ],
      "metadata": {
        "id": "kcZJw8EBDadd"
      },
      "execution_count": null,
      "outputs": []
    },
    {
      "cell_type": "code",
      "source": [
        "len(new_list)"
      ],
      "metadata": {
        "colab": {
          "base_uri": "https://localhost:8080/"
        },
        "id": "CcRRrGtnTodT",
        "outputId": "624c1469-c0f8-46bc-858a-fdb6b5519f5b"
      },
      "execution_count": null,
      "outputs": [
        {
          "output_type": "execute_result",
          "data": {
            "text/plain": [
              "77"
            ]
          },
          "metadata": {},
          "execution_count": 129
        }
      ]
    },
    {
      "cell_type": "code",
      "source": [
        "\n",
        "\n",
        "import matplotlib.pyplot as plt\n",
        "\n",
        "import seaborn as sns\n",
        "\n",
        "es = []\n",
        "\n",
        "for i in range(len(new_list)):\n",
        "  es.append(new_list[i][0])\n",
        "\n",
        "fc = []\n",
        "\n",
        "for i in range(len(new_list)):\n",
        "  fc.append(new_list[i][1])\n",
        "\n",
        "plt.xlabel('engine_speed')\n",
        "plt.ylabel('fuel_consumption')\n",
        "sns.scatterplot(es, fc)"
      ],
      "metadata": {
        "colab": {
          "base_uri": "https://localhost:8080/",
          "height": 352
        },
        "id": "4UYjsNMV7g6W",
        "outputId": "433dab9e-ce51-4523-e533-e22af67b0d26"
      },
      "execution_count": null,
      "outputs": [
        {
          "output_type": "stream",
          "name": "stderr",
          "text": [
            "/usr/local/lib/python3.7/dist-packages/seaborn/_decorators.py:43: FutureWarning: Pass the following variables as keyword args: x, y. From version 0.12, the only valid positional argument will be `data`, and passing other arguments without an explicit keyword will result in an error or misinterpretation.\n",
            "  FutureWarning\n"
          ]
        },
        {
          "output_type": "execute_result",
          "data": {
            "text/plain": [
              "<matplotlib.axes._subplots.AxesSubplot at 0x7f59c68052d0>"
            ]
          },
          "metadata": {},
          "execution_count": 130
        },
        {
          "output_type": "display_data",
          "data": {
            "text/plain": [
              "<Figure size 432x288 with 1 Axes>"
            ],
            "image/png": "[encoded data removed]"
          },
          "metadata": {
            "needs_background": "light"
          }
        }
      ]
    },
    {
      "cell_type": "code",
      "source": [
        "df_esc_alert['sparse'][0][1]"
      ],
      "metadata": {
        "colab": {
          "base_uri": "https://localhost:8080/"
        },
        "id": "70-gecnmTs4x",
        "outputId": "f5924278-f99e-4c5e-c724-928d6d2772af"
      },
      "execution_count": null,
      "outputs": [
        {
          "output_type": "execute_result",
          "data": {
            "text/plain": [
              "{'timestamp': 1664755337000,\n",
              " 'decomposedMessages': [{'signal': 'EngRPM_Cval_CPC3', 'value': 652.625},\n",
              "  {'signal': 'EngTrq_Cval_PT', 'value': 42},\n",
              "  {'signal': 'Accel_X_Cval', 'value': 0},\n",
              "  {'signal': 'Accel_Y_Cval', 'value': -0.169910156249999},\n",
              "  {'signal': 'YawRate_Cval_BS', 'value': -0.000322265624999}]}"
            ]
          },
          "metadata": {},
          "execution_count": 27
        }
      ]
    },
    {
      "cell_type": "code",
      "source": [
        "df_esc_alert['sparse'][10][3]['decomposedMessages']\n",
        "\n",
        "\n",
        "x = []\n",
        "\n",
        "for i in range(df_esc_alert.shape[0]):\n",
        "  for j in range(len(df_esc_alert['sparse'][i])):\n",
        "    for k in range(len(df_esc_alert['sparse'][i][j]['decomposedMessages'])):\n",
        "      x.append(df_esc_alert['sparse'][i][j]['decomposedMessages'][k]['signal'])\n",
        "\n",
        "print(np.unique(x))\n",
        "\n",
        "y = np.unique(x)"
      ],
      "metadata": {
        "id": "LXYCA5mP9CwL",
        "colab": {
          "base_uri": "https://localhost:8080/"
        },
        "outputId": "3c167028-2a14-44db-fff4-728b46c5b81e"
      },
      "execution_count": null,
      "outputs": [
        {
          "output_type": "stream",
          "name": "stdout",
          "text": [
            "['ABA_Actv_Stat' 'ABA_DistToObj_Cval' 'ABA_DrvOvrd_Stat' 'ABA_LmpMon_Stat'\n",
            " 'ABA_SelObj_Stat' 'ABS_Actv2_Stat' 'ACC_DistAlertSgl_Stat'\n",
            " 'ACC_OptWarn_Rq' 'ACC_SetDistMode_Stat' 'ALA_EDSS_HazLgt_Rq'\n",
            " 'ALA_EDSS_Warn_Rq' 'ALA_LDP_DrvActvn_Stat' 'ALA_LDP_Intrvntn_Stat'\n",
            " 'ALA_LDP_Stat' 'ALA_LK_DrvActvn_Stat' 'ALA_LK_FctChgWarn_Stat'\n",
            " 'ALA_LK_HndOnDeact_Stat' 'ALA_LK_HndOnWarn_Stat' 'ALA_LK_Stat'\n",
            " 'ASGA_BrkOcc_Rq' 'AccelPdlPos_Cval' 'Accel_X_Cval' 'Accel_Y_Cval'\n",
            " 'ActlEmotTrq_Cval' 'ActlRetPctTrq_Cval_CPC3' 'AirTempOutsd_Cval_SCA'\n",
            " 'BSM_AcstcWarnRt_Rq' 'BrkAirPress1_Stat_EAPU' 'BrkAirPress2_Stat_EAPU'\n",
            " 'BrkPdlPosn_Cval' 'CC_Actv_Stat' 'CC_Actvn_Stat' 'CC_FuncMode_Stat'\n",
            " 'CC_SetSpd2_Cval' 'DEF_Conv_Cval' 'DiffSpdFwdVeh_Cval'\n",
            " 'DispAutoMan_Rq_CPC' 'DistToFwdVeh_Cval' 'DoserFuelRate_Cval_PT'\n",
            " 'EcoRollPreSel_Stat' 'EngRPM_Cval_CPC3' 'EngTrq_Cval_PT'\n",
            " 'ExtAccel_Rq_VRDU' 'ExtBrkStat_Rq_VRDU' 'Fan2_Stat_PT' 'FogLmpSwFt_Rq'\n",
            " 'HRTotalFuelCons_Cval_ICUC' 'IPPC_Stat' 'LaneDptD_Actv_Stat_MPC'\n",
            " 'LaneDptImntLt_Rq_MPC' 'LaneDptImntRt_Rq_MPC' 'LaneDptWarnLt_Rq_MPC'\n",
            " 'LaneDptWarnRt_Rq_MPC' 'Latitude_Cval_CTP' 'LgtSensNightMod_Stat'\n",
            " 'LgtSensTwilgtLvl_Stat' 'Longitude_Cval_CTP' 'MainLgt_Sw_Rq'\n",
            " 'NavigationBasedVehicleSpeed' 'NumberOfSatellites' 'OptAcstcWarnABA_Rq'\n",
            " 'ROP_BrkCtrlActv2_Stat' 'ROP_EngCtrlActv2_Stat' 'RetSwPosn2_Stat_PT'\n",
            " 'SpdCCAdj_Popup_Rq_CPC' 'SpdCCCncl_Popup_Rq_CPC' 'SpdDefuel_Popup_Rq_CPC'\n",
            " 'SpdPreWarn_Popup_Rq_CPC' 'SpdWarn_Popup_Rq_CPC' 'StwAngl_Cval'\n",
            " 'TSR_Func_Stat_MPC' 'TotalVehDist_Cval_CPC' 'TrafSign1_MPC'\n",
            " 'TrafSign2_MPC' 'TrafSign4_MPC' 'TrafSignIcon_Set_MPC'\n",
            " 'TrafSignSpd_Unit_MPC' 'TurnSiglLt_Cmd_SCA' 'TurnSiglRt_Cmd_SCA'\n",
            " 'TxCurrGr_Stat' 'TxOilTemp_Cval_CPC' 'VehSpd_Cval_CPC'\n",
            " 'VehWeight_Cval_PT' 'WprSpd_Stat' 'YC_BrkCtrlActv2_Stat'\n",
            " 'YC_EngCtrlActv2_Stat' 'YawRate_Cval_BS']\n"
          ]
        }
      ]
    },
    {
      "cell_type": "code",
      "source": [],
      "metadata": {
        "id": "p-fWcaJQSXCB"
      },
      "execution_count": null,
      "outputs": []
    },
    {
      "cell_type": "code",
      "source": [],
      "metadata": {
        "id": "PlzoYLwvSXEj"
      },
      "execution_count": null,
      "outputs": []
    },
    {
      "cell_type": "code",
      "source": [
        "df_rsc_engine_alert['sparse'][0][1]"
      ],
      "metadata": {
        "colab": {
          "base_uri": "https://localhost:8080/"
        },
        "id": "YNFgylQxSWaq",
        "outputId": "1fb360e5-0ecc-4d4e-f665-1316752d14c0"
      },
      "execution_count": null,
      "outputs": [
        {
          "output_type": "execute_result",
          "data": {
            "text/plain": [
              "{'timestamp': 1664150445000,\n",
              " 'decomposedMessages': [{'signal': 'ABA_DistToObj_Cval', 'value': 38},\n",
              "  {'signal': 'AccelPdlPos_Cval', 'value': 60.4},\n",
              "  {'signal': 'EngRPM_Cval_CPC3', 'value': 1642.125},\n",
              "  {'signal': 'EngTrq_Cval_PT', 'value': 596.6001},\n",
              "  {'signal': 'DistToFwdVeh_Cval', 'value': 38},\n",
              "  {'signal': 'StwAngl_Cval', 'value': 0.041039062500001},\n",
              "  {'signal': 'HRTotalFuelCons_Cval_ICUC', 'value': 113449.83},\n",
              "  {'signal': 'TotalVehDist_Cval_CPC', 'value': 367033975},\n",
              "  {'signal': 'TurnSiglLt_Cmd_SCA', 'value': 1},\n",
              "  {'signal': 'TurnSiglRt_Cmd_SCA', 'value': 1},\n",
              "  {'signal': 'VehSpd_Cval_CPC', 'value': 19.617188},\n",
              "  {'signal': 'Accel_X_Cval', 'value': 1.1999998},\n",
              "  {'signal': 'Accel_Y_Cval', 'value': 0.40040234375000006},\n",
              "  {'signal': 'YawRate_Cval_BS', 'value': 0.005170898437500001}]}"
            ]
          },
          "metadata": {},
          "execution_count": 29
        }
      ]
    },
    {
      "cell_type": "code",
      "source": [
        "df_rsc_engine_alert['sparse'][0][1]['decomposedMessages']\n",
        "\n",
        "x = []\n",
        "\n",
        "for i in range(df_rsc_engine_alert.shape[0]):\n",
        "  for j in range(len(df_rsc_engine_alert['sparse'][i])):\n",
        "    for k in range(len(df_rsc_engine_alert['sparse'][i][j]['decomposedMessages'])):\n",
        "      x.append(df_rsc_engine_alert['sparse'][i][j]['decomposedMessages'][k]['signal'])\n",
        "\n",
        "print(np.unique(x))\n",
        "\n",
        "z = np.unique(x)"
      ],
      "metadata": {
        "colab": {
          "base_uri": "https://localhost:8080/"
        },
        "id": "0Bas_ZMGwPQ3",
        "outputId": "a6ac9418-7a48-46b0-ccfc-ecfe41c213c4"
      },
      "execution_count": null,
      "outputs": [
        {
          "output_type": "stream",
          "name": "stdout",
          "text": [
            "['ABA_Actv_Stat' 'ABA_DistToObj_Cval' 'ABA_DrvOvrd_Stat' 'ABA_LmpMon_Stat'\n",
            " 'ABA_SelObj_Stat' 'ABS_Actv2_Stat' 'ACC_DistAlertSgl_Stat'\n",
            " 'ACC_OptWarn_Rq' 'ACC_SetDistMode_Stat' 'ALA_EDSS_HazLgt_Rq'\n",
            " 'ALA_EDSS_Warn_Rq' 'ALA_LDP_DrvActvn_Stat' 'ALA_LDP_Intrvntn_Stat'\n",
            " 'ALA_LDP_Stat' 'ALA_LK_DrvActvn_Stat' 'ALA_LK_FctChgWarn_Stat'\n",
            " 'ALA_LK_HndOnDeact_Stat' 'ALA_LK_HndOnWarn_Stat' 'ALA_LK_Stat'\n",
            " 'ASGA_BrkOcc_Rq' 'AccelPdlPos_Cval' 'Accel_X_Cval' 'Accel_Y_Cval'\n",
            " 'ActlEmotTrq_Cval' 'ActlRetPctTrq_Cval_CPC3' 'AirTempOutsd_Cval_SCA'\n",
            " 'BSM_AcstcWarnRt_Rq' 'BrkAirPress1_Stat_EAPU' 'BrkAirPress2_Stat_EAPU'\n",
            " 'BrkPdlPosn_Cval' 'CC_Actv_Stat' 'CC_Actvn_Stat' 'CC_FuncMode_Stat'\n",
            " 'CC_SetSpd2_Cval' 'DEF_Conv_Cval' 'DiffSpdFwdVeh_Cval'\n",
            " 'DispAutoMan_Rq_CPC' 'DistToFwdVeh_Cval' 'DoserFuelRate_Cval_PT'\n",
            " 'EcoRollPreSel_Stat' 'EngRPM_Cval_CPC3' 'EngTrq_Cval_PT'\n",
            " 'ExtAccel_Rq_VRDU' 'ExtBrkStat_Rq_VRDU' 'Fan2_Stat_PT' 'FogLmpSwFt_Rq'\n",
            " 'HRTotalFuelCons_Cval_ICUC' 'IPPC_Stat' 'LaneDptD_Actv_Stat_MPC'\n",
            " 'LaneDptImntLt_Rq_MPC' 'LaneDptImntRt_Rq_MPC' 'LaneDptWarnLt_Rq_MPC'\n",
            " 'LaneDptWarnRt_Rq_MPC' 'Latitude_Cval_CTP' 'LgtSensNightMod_Stat'\n",
            " 'LgtSensTwilgtLvl_Stat' 'Longitude_Cval_CTP' 'MainLgt_Sw_Rq'\n",
            " 'NavigationBasedVehicleSpeed' 'NumberOfSatellites' 'OptAcstcWarnABA_Rq'\n",
            " 'ROP_BrkCtrlActv2_Stat' 'ROP_EngCtrlActv2_Stat' 'RetSwPosn2_Stat_PT'\n",
            " 'SpdCCAdj_Popup_Rq_CPC' 'SpdCCCncl_Popup_Rq_CPC' 'SpdDefuel_Popup_Rq_CPC'\n",
            " 'SpdPreWarn_Popup_Rq_CPC' 'SpdWarn_Popup_Rq_CPC' 'StwAngl_Cval'\n",
            " 'TSR_Func_Stat_MPC' 'TotalVehDist_Cval_CPC' 'TurnSiglLt_Cmd_SCA'\n",
            " 'TurnSiglRt_Cmd_SCA' 'TxCurrGr_Stat' 'TxOilTemp_Cval_CPC'\n",
            " 'VehSpd_Cval_CPC' 'VehWeight_Cval_PT' 'WprSpd_Stat'\n",
            " 'YC_BrkCtrlActv2_Stat' 'YC_EngCtrlActv2_Stat' 'YawRate_Cval_BS']\n"
          ]
        }
      ]
    },
    {
      "cell_type": "code",
      "source": [
        "# (d)\n",
        "\n",
        "break1 = []\n",
        "break2 = []\n",
        "break3 = []\n",
        "break4 = []\n",
        "\n",
        "lane1 = []\n",
        "lane2 = []\n",
        "lane3 = []\n",
        "lane4 = []\n",
        "lane5 = []\n",
        "\n",
        "tb1 = []\n",
        "tb2 = []\n",
        "tb3 = []\n",
        "tb4 = []\n",
        "\n",
        "tl1 = []\n",
        "tl2 = []\n",
        "tl3 = []\n",
        "tl4 = []\n",
        "tl5 = []\n",
        "\n",
        "for i in range(df_rsc_engine_alert.shape[0]):\n",
        "  for j in range(len(df_rsc_engine_alert['sparse'][i])):\n",
        "    for k in range(len(df_rsc_engine_alert['sparse'][i][j]['decomposedMessages'])):\n",
        "      if df_rsc_engine_alert['sparse'][i][j]['decomposedMessages'][k]['signal'] == 'BrkAirPress1_Stat_EAPU':\n",
        "        break1.append(df_rsc_engine_alert['sparse'][i][j]['decomposedMessages'][k]['value'])\n",
        "        tb1.append(df_rsc_engine_alert['sparse'][i][j]['timestamp'])\n",
        "\n",
        "\n",
        "for i in range(df_rsc_engine_alert.shape[0]):\n",
        "  for j in range(len(df_rsc_engine_alert['sparse'][i])):\n",
        "    for k in range(len(df_rsc_engine_alert['sparse'][i][j]['decomposedMessages'])):\n",
        "      if df_rsc_engine_alert['sparse'][i][j]['decomposedMessages'][k]['signal'] == 'BrkAirPress2_Stat_EAPU':\n",
        "        break2.append(df_rsc_engine_alert['sparse'][i][j]['decomposedMessages'][k]['value'])\n",
        "        tb2.append(df_rsc_engine_alert['sparse'][i][j]['timestamp'])\n",
        "\n",
        "\n",
        "for i in range(df_rsc_engine_alert.shape[0]):\n",
        "  for j in range(len(df_rsc_engine_alert['sparse'][i])):\n",
        "    for k in range(len(df_rsc_engine_alert['sparse'][i][j]['decomposedMessages'])):\n",
        "      if df_rsc_engine_alert['sparse'][i][j]['decomposedMessages'][k]['signal'] == 'ExtBrkStat_Rq_VRDU':\n",
        "        break3.append(df_rsc_engine_alert['sparse'][i][j]['decomposedMessages'][k]['value'])\n",
        "        tb3.append(df_rsc_engine_alert['sparse'][i][j]['timestamp'])\n",
        "\n",
        "\n",
        "for i in range(df_rsc_engine_alert.shape[0]):\n",
        "  for j in range(len(df_rsc_engine_alert['sparse'][i])):\n",
        "    for k in range(len(df_rsc_engine_alert['sparse'][i][j]['decomposedMessages'])):\n",
        "      if df_rsc_engine_alert['sparse'][i][j]['decomposedMessages'][k]['signal'] == 'ROP_BrkCtrlActv2_Stat':\n",
        "        break4.append(df_rsc_engine_alert['sparse'][i][j]['decomposedMessages'][k]['value'])\n",
        "        tb4.append(df_rsc_engine_alert['sparse'][i][j]['timestamp'])\n",
        "\n",
        "\n",
        "for i in range(df_rsc_engine_alert.shape[0]):\n",
        "  for j in range(len(df_rsc_engine_alert['sparse'][i])):\n",
        "    for k in range(len(df_rsc_engine_alert['sparse'][i][j]['decomposedMessages'])):\n",
        "      if df_rsc_engine_alert['sparse'][i][j]['decomposedMessages'][k]['signal'] == 'LaneDptD_Actv_Stat_MPC':\n",
        "        lane1.append(df_rsc_engine_alert['sparse'][i][j]['decomposedMessages'][k]['value'])\n",
        "        tl1.append(df_rsc_engine_alert['sparse'][i][j]['timestamp'])\n",
        "\n",
        "\n",
        "for i in range(df_rsc_engine_alert.shape[0]):\n",
        "  for j in range(len(df_rsc_engine_alert['sparse'][i])):\n",
        "    for k in range(len(df_rsc_engine_alert['sparse'][i][j]['decomposedMessages'])):\n",
        "      if df_rsc_engine_alert['sparse'][i][j]['decomposedMessages'][k]['signal'] == 'LaneDptImntLt_Rq_MPC':\n",
        "        lane2.append(df_rsc_engine_alert['sparse'][i][j]['decomposedMessages'][k]['value'])\n",
        "        tl2.append(df_rsc_engine_alert['sparse'][i][j]['timestamp'])\n",
        "\n",
        "\n",
        "\n",
        "for i in range(df_rsc_engine_alert.shape[0]):\n",
        "  for j in range(len(df_rsc_engine_alert['sparse'][i])):\n",
        "    for k in range(len(df_rsc_engine_alert['sparse'][i][j]['decomposedMessages'])):\n",
        "      if df_rsc_engine_alert['sparse'][i][j]['decomposedMessages'][k]['signal'] == 'LaneDptImntRt_Rq_MPC':\n",
        "        lane3.append(df_rsc_engine_alert['sparse'][i][j]['decomposedMessages'][k]['value'])\n",
        "        tl3.append(df_rsc_engine_alert['sparse'][i][j]['timestamp'])\n",
        "\n",
        "\n",
        "\n",
        "\n",
        "\n",
        "for i in range(df_rsc_engine_alert.shape[0]):\n",
        "  for j in range(len(df_rsc_engine_alert['sparse'][i])):\n",
        "    for k in range(len(df_rsc_engine_alert['sparse'][i][j]['decomposedMessages'])):\n",
        "      if df_rsc_engine_alert['sparse'][i][j]['decomposedMessages'][k]['signal'] == 'LaneDptWarnLt_Rq_MPC':\n",
        "        lane4.append(df_rsc_engine_alert['sparse'][i][j]['decomposedMessages'][k]['value'])\n",
        "        tl4.append(df_rsc_engine_alert['sparse'][i][j]['timestamp'])\n",
        "\n",
        "for i in range(df_rsc_engine_alert.shape[0]):\n",
        "  for j in range(len(df_rsc_engine_alert['sparse'][i])):\n",
        "    for k in range(len(df_rsc_engine_alert['sparse'][i][j]['decomposedMessages'])):\n",
        "      if df_rsc_engine_alert['sparse'][i][j]['decomposedMessages'][k]['signal'] == 'LaneDptWarnRt_Rq_MPC':\n",
        "        lane5.append(df_rsc_engine_alert['sparse'][i][j]['decomposedMessages'][k]['value'])\n",
        "        tl5.append(df_rsc_engine_alert['sparse'][i][j]['timestamp'])"
      ],
      "metadata": {
        "id": "o4ctOtVJcERk"
      },
      "execution_count": null,
      "outputs": []
    },
    {
      "cell_type": "code",
      "source": [
        "import matplotlib.pyplot as plt\n",
        "\n",
        "import seaborn as sns\n",
        "\n",
        "plt.hist(tl5)"
      ],
      "metadata": {
        "colab": {
          "base_uri": "https://localhost:8080/",
          "height": 365
        },
        "id": "je70WWlNhONG",
        "outputId": "ee423dfb-4c09-4f2c-cf61-2ef9d61add14"
      },
      "execution_count": null,
      "outputs": [
        {
          "output_type": "execute_result",
          "data": {
            "text/plain": [
              "(array([114.,  19.,  16., 162., 132.,  61.,   0.,  55., 155., 215.]),\n",
              " array([1.66415033e+12, 1.66416939e+12, 1.66418846e+12, 1.66420752e+12,\n",
              "        1.66422659e+12, 1.66424565e+12, 1.66426472e+12, 1.66428378e+12,\n",
              "        1.66430285e+12, 1.66432191e+12, 1.66434098e+12]),\n",
              " <a list of 10 Patch objects>)"
            ]
          },
          "metadata": {},
          "execution_count": 32
        },
        {
          "output_type": "display_data",
          "data": {
            "text/plain": [
              "<Figure size 432x288 with 1 Axes>"
            ],
            "image/png": "[encoded data removed]"
          },
          "metadata": {
            "needs_background": "light"
          }
        }
      ]
    },
    {
      "cell_type": "code",
      "source": [
        "import matplotlib.pyplot as plt\n",
        "\n",
        "import seaborn as sns\n",
        "\n",
        "plt.hist(tl1)"
      ],
      "metadata": {
        "colab": {
          "base_uri": "https://localhost:8080/",
          "height": 365
        },
        "id": "pBz61wdplGN2",
        "outputId": "669aefb5-0e49-4472-a1c4-0748ba7311df"
      },
      "execution_count": null,
      "outputs": [
        {
          "output_type": "execute_result",
          "data": {
            "text/plain": [
              "(array([100.,  19.,  17., 120., 135.,  60.,   0.,  47., 147., 157.]),\n",
              " array([1.66415033e+12, 1.66416940e+12, 1.66418848e+12, 1.66420755e+12,\n",
              "        1.66422663e+12, 1.66424570e+12, 1.66426478e+12, 1.66428385e+12,\n",
              "        1.66430292e+12, 1.66432200e+12, 1.66434107e+12]),\n",
              " <a list of 10 Patch objects>)"
            ]
          },
          "metadata": {},
          "execution_count": 33
        },
        {
          "output_type": "display_data",
          "data": {
            "text/plain": [
              "<Figure size 432x288 with 1 Axes>"
            ],
            "image/png": "[encoded data removed]"
          },
          "metadata": {
            "needs_background": "light"
          }
        }
      ]
    },
    {
      "cell_type": "code",
      "source": [
        "df_esc_alert['sparse'][0][1]"
      ],
      "metadata": {
        "colab": {
          "base_uri": "https://localhost:8080/"
        },
        "id": "gvCTpFpIr7k4",
        "outputId": "da1cab0a-a847-4442-fbc5-2a6ad5d3ebc0"
      },
      "execution_count": null,
      "outputs": [
        {
          "output_type": "execute_result",
          "data": {
            "text/plain": [
              "{'timestamp': 1664755337000,\n",
              " 'decomposedMessages': [{'signal': 'EngRPM_Cval_CPC3', 'value': 652.625},\n",
              "  {'signal': 'EngTrq_Cval_PT', 'value': 42},\n",
              "  {'signal': 'Accel_X_Cval', 'value': 0},\n",
              "  {'signal': 'Accel_Y_Cval', 'value': -0.169910156249999},\n",
              "  {'signal': 'YawRate_Cval_BS', 'value': -0.000322265624999}]}"
            ]
          },
          "metadata": {},
          "execution_count": 34
        }
      ]
    },
    {
      "cell_type": "code",
      "source": [
        "# (e)\n",
        "\n",
        "\n",
        "\n",
        "t1 = []\n",
        "\n",
        "temp = []\n",
        "\n",
        "t2 = []\n",
        "\n",
        "fog = []\n",
        "\n",
        "\n",
        "\n",
        "for i in range(df_esc_alert.shape[0]):\n",
        "  for j in range(len(df_esc_alert['sparse'][i])):\n",
        "    for k in range(len(df_esc_alert['sparse'][i][j]['decomposedMessages'])):\n",
        "      if df_esc_alert['sparse'][i][j]['decomposedMessages'][k]['signal'] == 'AirTempOutsd_Cval_SCA':\n",
        "        temp.append(df_esc_alert['sparse'][i][j]['decomposedMessages'][k]['value'])\n",
        "        t1.append(df_esc_alert['sparse'][i][j]['timestamp'])\n",
        "\n",
        "for i in range(df_esc_alert.shape[0]):\n",
        "  for j in range(len(df_esc_alert['sparse'][i])):\n",
        "    for k in range(len(df_esc_alert['sparse'][i][j]['decomposedMessages'])):\n",
        "      if df_esc_alert['sparse'][i][j]['decomposedMessages'][k]['signal'] == 'FogLmpSwFt_Rq':\n",
        "        fog.append(df_esc_alert['sparse'][i][j]['decomposedMessages'][k]['value'])\n",
        "        t2.append(df_esc_alert['sparse'][i][j]['timestamp'])"
      ],
      "metadata": {
        "id": "3uThvALcXcKz"
      },
      "execution_count": null,
      "outputs": []
    },
    {
      "cell_type": "code",
      "source": [
        "plt.hist(temp)"
      ],
      "metadata": {
        "id": "XhEf_yChoj8u",
        "colab": {
          "base_uri": "https://localhost:8080/",
          "height": 352
        },
        "outputId": "386fee93-5fef-4750-b75f-37862c3f51bf"
      },
      "execution_count": null,
      "outputs": [
        {
          "output_type": "execute_result",
          "data": {
            "text/plain": [
              "(array([  11.,   18.,  715.,  486., 1438.,  677.,  607., 1323.,  785.,\n",
              "         203.]),\n",
              " array([ 0.     ,  3.06875,  6.1375 ,  9.20625, 12.275  , 15.34375,\n",
              "        18.4125 , 21.48125, 24.55   , 27.61875, 30.6875 ]),\n",
              " <a list of 10 Patch objects>)"
            ]
          },
          "metadata": {},
          "execution_count": 36
        },
        {
          "output_type": "display_data",
          "data": {
            "text/plain": [
              "<Figure size 432x288 with 1 Axes>"
            ],
            "image/png": "[encoded data removed]"
          },
          "metadata": {
            "needs_background": "light"
          }
        }
      ]
    },
    {
      "cell_type": "code",
      "source": [
        "plt.hist(fog)"
      ],
      "metadata": {
        "id": "kyajZp0nokAH",
        "colab": {
          "base_uri": "https://localhost:8080/",
          "height": 317
        },
        "outputId": "5221f7c8-b6dc-4aaa-a18c-8320f30b769e"
      },
      "execution_count": null,
      "outputs": [
        {
          "output_type": "execute_result",
          "data": {
            "text/plain": [
              "(array([ 0.,  0.,  0.,  0.,  0., 12.,  0.,  0.,  0.,  0.]),\n",
              " array([2.5, 2.6, 2.7, 2.8, 2.9, 3. , 3.1, 3.2, 3.3, 3.4, 3.5]),\n",
              " <a list of 10 Patch objects>)"
            ]
          },
          "metadata": {},
          "execution_count": 37
        },
        {
          "output_type": "display_data",
          "data": {
            "text/plain": [
              "<Figure size 432x288 with 1 Axes>"
            ],
            "image/png": "[encoded data removed]"
          },
          "metadata": {
            "needs_background": "light"
          }
        }
      ]
    },
    {
      "cell_type": "code",
      "source": [
        "df_forward_collision_warning['sparse'][0][1]['decomposedMessages']\n",
        "\n",
        "x = []\n",
        "\n",
        "for i in range(df_forward_collision_warning.shape[0]):\n",
        "  for j in range(len(df_forward_collision_warning['sparse'][i])):\n",
        "    for k in range(len(df_forward_collision_warning['sparse'][i][j]['decomposedMessages'])):\n",
        "      x.append(df_forward_collision_warning['sparse'][i][j]['decomposedMessages'][k]['signal'])\n",
        "\n",
        "print(np.unique(x))"
      ],
      "metadata": {
        "colab": {
          "base_uri": "https://localhost:8080/"
        },
        "id": "wZyERHM3wkJP",
        "outputId": "2ca56804-cf9e-4ffe-9ca9-ddd03e26c424"
      },
      "execution_count": null,
      "outputs": [
        {
          "output_type": "stream",
          "name": "stdout",
          "text": [
            "['ABA_Actv_Stat' 'ABA_DistToObj_Cval' 'ABA_DrvOvrd_Stat' 'ABA_LmpMon_Stat'\n",
            " 'ABA_SelObj_Stat' 'ABS_Actv2_Stat' 'ACC_DistAlertSgl_Stat'\n",
            " 'ACC_OptWarn_Rq' 'ACC_SetDistMode_Stat' 'ALA_EDSS_HazLgt_Rq'\n",
            " 'ALA_EDSS_Warn_Rq' 'ALA_LDP_DrvActvn_Stat' 'ALA_LDP_Intrvntn_Stat'\n",
            " 'ALA_LDP_Stat' 'ALA_LK_DrvActvn_Stat' 'ALA_LK_FctChgWarn_Stat'\n",
            " 'ALA_LK_HndOnDeact_Stat' 'ALA_LK_HndOnWarn_Stat' 'ALA_LK_Stat'\n",
            " 'ASGA_BrkOcc_Rq' 'AccelPdlPos_Cval' 'Accel_X_Cval' 'Accel_Y_Cval'\n",
            " 'ActlEmotTrq_Cval' 'ActlRetPctTrq_Cval_CPC3' 'AirTempOutsd_Cval_SCA'\n",
            " 'BSM_AcstcWarnRt_Rq' 'BrkAirPress1_Stat_EAPU' 'BrkAirPress2_Stat_EAPU'\n",
            " 'BrkPdlPosn_Cval' 'CC_Actv_Stat' 'CC_Actvn_Stat' 'CC_FuncMode_Stat'\n",
            " 'CC_SetSpd2_Cval' 'DEF_Conv_Cval' 'DiffSpdFwdVeh_Cval'\n",
            " 'DispAutoMan_Rq_CPC' 'DistToFwdVeh_Cval' 'DoserFuelRate_Cval_PT'\n",
            " 'EcoRollPreSel_Stat' 'EngRPM_Cval_CPC3' 'EngTrq_Cval_PT'\n",
            " 'ExtAccel_Rq_VRDU' 'ExtBrkStat_Rq_VRDU' 'Fan2_Stat_PT' 'FogLmpSwFt_Rq'\n",
            " 'HRTotalFuelCons_Cval_ICUC' 'IPPC_Stat' 'LaneDptD_Actv_Stat_MPC'\n",
            " 'LaneDptImntLt_Rq_MPC' 'LaneDptImntRt_Rq_MPC' 'LaneDptWarnLt_Rq_MPC'\n",
            " 'LaneDptWarnRt_Rq_MPC' 'Latitude_Cval_CTP' 'LgtSensNightMod_Stat'\n",
            " 'LgtSensTwilgtLvl_Stat' 'Longitude_Cval_CTP' 'MainLgt_Sw_Rq'\n",
            " 'NavigationBasedVehicleSpeed' 'NumberOfSatellites' 'OptAcstcWarnABA_Rq'\n",
            " 'ROP_BrkCtrlActv2_Stat' 'ROP_EngCtrlActv2_Stat' 'RetSwPosn2_Stat_PT'\n",
            " 'SpdCCAdj_Popup_Rq_CPC' 'SpdCCCncl_Popup_Rq_CPC' 'SpdDefuel_Popup_Rq_CPC'\n",
            " 'SpdPreWarn_Popup_Rq_CPC' 'SpdWarn_Popup_Rq_CPC' 'StwAngl_Cval'\n",
            " 'TSR_Func_Stat_MPC' 'TotalVehDist_Cval_CPC' 'TurnSiglLt_Cmd_SCA'\n",
            " 'TurnSiglRt_Cmd_SCA' 'TxCurrGr_Stat' 'TxOilTemp_Cval_CPC'\n",
            " 'VehSpd_Cval_CPC' 'VehWeight_Cval_PT' 'WprSpd_Stat'\n",
            " 'YC_BrkCtrlActv2_Stat' 'YC_EngCtrlActv2_Stat' 'YawRate_Cval_BS']\n"
          ]
        }
      ]
    },
    {
      "cell_type": "code",
      "source": [
        "df_collision_mitigation_braking['sparse'][20][50]['decomposedMessages']\n",
        "\n",
        "x = []\n",
        "\n",
        "for i in range(df_collision_mitigation_braking.shape[0]):\n",
        "  for j in range(len(df_collision_mitigation_braking['sparse'][i])):\n",
        "    for k in range(len(df_collision_mitigation_braking['sparse'][i][j]['decomposedMessages'])):\n",
        "      x.append(df_collision_mitigation_braking['sparse'][i][j]['decomposedMessages'][k]['signal'])\n",
        "\n",
        "print(np.unique(x))"
      ],
      "metadata": {
        "colab": {
          "base_uri": "https://localhost:8080/"
        },
        "id": "mq3900PGxRyX",
        "outputId": "4d4e360e-2a82-4aac-ef4c-84e17248840d"
      },
      "execution_count": null,
      "outputs": [
        {
          "output_type": "stream",
          "name": "stdout",
          "text": [
            "['ABA_Actv_Stat' 'ABA_DistToObj_Cval' 'ABA_DrvOvrd_Stat' 'ABA_LmpMon_Stat'\n",
            " 'ABA_SelObj_Stat' 'ABS_Actv2_Stat' 'ACC_DistAlertSgl_Stat'\n",
            " 'ACC_OptWarn_Rq' 'ACC_SetDistMode_Stat' 'ALA_EDSS_HazLgt_Rq'\n",
            " 'ALA_EDSS_Warn_Rq' 'ALA_LDP_DrvActvn_Stat' 'ALA_LDP_Intrvntn_Stat'\n",
            " 'ALA_LDP_Stat' 'ALA_LK_DrvActvn_Stat' 'ALA_LK_FctChgWarn_Stat'\n",
            " 'ALA_LK_HndOnDeact_Stat' 'ALA_LK_HndOnWarn_Stat' 'ALA_LK_Stat'\n",
            " 'ASGA_BrkOcc_Rq' 'AccelPdlPos_Cval' 'Accel_X_Cval' 'Accel_Y_Cval'\n",
            " 'ActlEmotTrq_Cval' 'ActlRetPctTrq_Cval_CPC3' 'AirTempOutsd_Cval_SCA'\n",
            " 'BSM_AcstcWarnRt_Rq' 'BrkAirPress1_Stat_EAPU' 'BrkAirPress2_Stat_EAPU'\n",
            " 'BrkPdlPosn_Cval' 'CC_Actv_Stat' 'CC_Actvn_Stat' 'CC_FuncMode_Stat'\n",
            " 'CC_SetSpd2_Cval' 'DEF_Conv_Cval' 'DiffSpdFwdVeh_Cval'\n",
            " 'DispAutoMan_Rq_CPC' 'DistToFwdVeh_Cval' 'DoserFuelRate_Cval_PT'\n",
            " 'EcoRollPreSel_Stat' 'EngRPM_Cval_CPC3' 'EngTrq_Cval_PT'\n",
            " 'ExtAccel_Rq_VRDU' 'ExtBrkStat_Rq_VRDU' 'FogLmpSwFt_Rq'\n",
            " 'HRTotalFuelCons_Cval_ICUC' 'IPPC_Stat' 'LaneDptD_Actv_Stat_MPC'\n",
            " 'LaneDptImntLt_Rq_MPC' 'LaneDptImntRt_Rq_MPC' 'LaneDptWarnLt_Rq_MPC'\n",
            " 'LaneDptWarnRt_Rq_MPC' 'Latitude_Cval_CTP' 'LgtSensNightMod_Stat'\n",
            " 'LgtSensTwilgtLvl_Stat' 'Longitude_Cval_CTP' 'MainLgt_Sw_Rq'\n",
            " 'NavigationBasedVehicleSpeed' 'NumberOfSatellites' 'OptAcstcWarnABA_Rq'\n",
            " 'ROP_BrkCtrlActv2_Stat' 'ROP_EngCtrlActv2_Stat' 'RetSwPosn2_Stat_PT'\n",
            " 'SpdCCAdj_Popup_Rq_CPC' 'SpdCCCncl_Popup_Rq_CPC' 'SpdDefuel_Popup_Rq_CPC'\n",
            " 'SpdPreWarn_Popup_Rq_CPC' 'SpdWarn_Popup_Rq_CPC' 'StwAngl_Cval'\n",
            " 'TSR_Func_Stat_MPC' 'TotalVehDist_Cval_CPC' 'TrafSign1_MPC'\n",
            " 'TrafSign2_MPC' 'TrafSign4_MPC' 'TrafSignIcon_Set_MPC'\n",
            " 'TrafSignSpd_Unit_MPC' 'TurnSiglLt_Cmd_SCA' 'TurnSiglRt_Cmd_SCA'\n",
            " 'TxCurrGr_Stat' 'TxOilTemp_Cval_CPC' 'VehSpd_Cval_CPC'\n",
            " 'VehWeight_Cval_PT' 'WprSpd_Stat' 'YC_BrkCtrlActv2_Stat'\n",
            " 'YC_EngCtrlActv2_Stat' 'YawRate_Cval_BS']\n"
          ]
        }
      ]
    },
    {
      "cell_type": "code",
      "source": [
        "df_large_set['sparse'][0][1]['decomposedMessages']\n",
        "\n",
        "x = []\n",
        "\n",
        "for i in range(df_large_set.shape[0]):\n",
        "  for j in range(len(df_large_set['sparse'][i])):\n",
        "    for k in range(len(df_large_set['sparse'][i][j]['decomposedMessages'])):\n",
        "      x.append(df_large_set['sparse'][i][j]['decomposedMessages'][k]['signal'])\n",
        "\n",
        "print(np.unique(x))"
      ],
      "metadata": {
        "colab": {
          "base_uri": "https://localhost:8080/"
        },
        "id": "JKy4cCGnyRKZ",
        "outputId": "62f7c622-61db-4acc-f0f3-bb61883a358a"
      },
      "execution_count": null,
      "outputs": [
        {
          "output_type": "stream",
          "name": "stdout",
          "text": [
            "['ABA_Actv_Stat' 'ABA_DistToObj_Cval' 'ABA_DrvOvrd_Stat' 'ABA_LmpMon_Stat'\n",
            " 'ABA_SelObj_Stat' 'ABS_Actv2_Stat' 'ACC_DistAlertSgl_Stat'\n",
            " 'ACC_OptWarn_Rq' 'ACC_SetDistMode_Stat' 'ALA_EDSS_HazLgt_Rq'\n",
            " 'ALA_EDSS_Warn_Rq' 'ALA_LDP_DrvActvn_Stat' 'ALA_LDP_Intrvntn_Stat'\n",
            " 'ALA_LDP_Stat' 'ALA_LK_DrvActvn_Stat' 'ALA_LK_FctChgWarn_Stat'\n",
            " 'ALA_LK_HndOnDeact_Stat' 'ALA_LK_HndOnWarn_Stat' 'ALA_LK_Stat'\n",
            " 'ASGA_BrkOcc_Rq' 'AccelPdlPos_Cval' 'Accel_X_Cval' 'Accel_Y_Cval'\n",
            " 'ActlEmotTrq_Cval' 'ActlRetPctTrq_Cval_CPC3' 'AirTempOutsd_Cval_SCA'\n",
            " 'BSM_AcstcWarnRt_Rq' 'BrkPdlPosn_Cval' 'CC_Actv_Stat' 'CC_Actvn_Stat'\n",
            " 'CC_FuncMode_Stat' 'CC_SetSpd2_Cval' 'DEF_Conv_Cval' 'DispAutoMan_Rq_CPC'\n",
            " 'DistToFwdVeh_Cval' 'DoserFuelRate_Cval_PT' 'EcoRollPreSel_Stat'\n",
            " 'EngRPM_Cval_CPC3' 'EngTrq_Cval_PT' 'ExtAccel_Rq_VRDU'\n",
            " 'ExtBrkStat_Rq_VRDU' 'Fan2_Stat_PT' 'FogLmpSwFt_Rq'\n",
            " 'HRTotalFuelCons_Cval_ICUC' 'IPPC_Stat' 'LaneDptD_Actv_Stat_MPC'\n",
            " 'LaneDptImntLt_Rq_MPC' 'LaneDptImntRt_Rq_MPC' 'LaneDptWarnLt_Rq_MPC'\n",
            " 'LaneDptWarnRt_Rq_MPC' 'Latitude_Cval_CTP' 'LgtSensNightMod_Stat'\n",
            " 'LgtSensTwilgtLvl_Stat' 'Longitude_Cval_CTP' 'MainLgt_Sw_Rq'\n",
            " 'NavigationBasedVehicleSpeed' 'NumberOfSatellites' 'OptAcstcWarnABA_Rq'\n",
            " 'ROP_BrkCtrlActv2_Stat' 'ROP_EngCtrlActv2_Stat' 'RetSwPosn2_Stat_PT'\n",
            " 'SpdCCAdj_Popup_Rq_CPC' 'SpdDefuel_Popup_Rq_CPC'\n",
            " 'SpdPreWarn_Popup_Rq_CPC' 'SpdWarn_Popup_Rq_CPC' 'StwAngl_Cval'\n",
            " 'TSR_Func_Stat_MPC' 'TotalVehDist_Cval_CPC' 'TrafSign1_MPC'\n",
            " 'TrafSign2_MPC' 'TrafSign4_MPC' 'TrafSignIcon_Set_MPC'\n",
            " 'TrafSignSpd_Unit_MPC' 'TurnSiglLt_Cmd_SCA' 'TurnSiglRt_Cmd_SCA'\n",
            " 'TxCurrGr_Stat' 'TxOilTemp_Cval_CPC' 'VehSpd_Cval_CPC'\n",
            " 'VehWeight_Cval_PT' 'YC_BrkCtrlActv2_Stat' 'YC_EngCtrlActv2_Stat'\n",
            " 'YawRate_Cval_BS']\n"
          ]
        }
      ]
    },
    {
      "cell_type": "code",
      "source": [
        "# (c)\n",
        "\n",
        "tstamp = []\n",
        "\n",
        "lat = []\n",
        "\n",
        "long = []\n",
        "\n",
        "fwd = []\n",
        "\n",
        "\n",
        "\n",
        "for i in range(df_esc_alert.shape[0]):\n",
        "  for j in range(len(df_esc_alert['sparse'][i])):\n",
        "    for k in range(len(df_esc_alert['sparse'][i][j]['decomposedMessages'])):\n",
        "      if df_esc_alert['sparse'][i][j]['decomposedMessages'][k]['signal'] == 'Latitude_Cval_CTP':\n",
        "        lat.append(df_esc_alert['sparse'][i][j]['decomposedMessages'][k]['value'])\n",
        "      if df_esc_alert['sparse'][i][j]['decomposedMessages'][k]['signal'] == 'Longitude_Cval_CTP':\n",
        "        long.append(df_esc_alert['sparse'][i][j]['decomposedMessages'][k]['value'])\n",
        "      if df_esc_alert['sparse'][i][j]['decomposedMessages'][k]['signal'] == 'DistToFwdVeh_Cval':\n",
        "        fwd.append(df_esc_alert['sparse'][i][j]['decomposedMessages'][k]['value'])\n",
        "        tstamp.append(df_esc_alert['sparse'][i][j]['timestamp'])"
      ],
      "metadata": {
        "id": "posBioteN45w"
      },
      "execution_count": null,
      "outputs": []
    },
    {
      "cell_type": "code",
      "source": [
        "plt.hist(fwd)"
      ],
      "metadata": {
        "id": "jpkzIfL8O3wQ",
        "colab": {
          "base_uri": "https://localhost:8080/",
          "height": 352
        },
        "outputId": "a4a85ce3-289e-46be-9610-2a67b8b12a53"
      },
      "execution_count": null,
      "outputs": [
        {
          "output_type": "execute_result",
          "data": {
            "text/plain": [
              "(array([1346., 1578., 1548., 1334.,  886.,  741.,  585.,  410.,    0.,\n",
              "        1397.]),\n",
              " array([  2. ,  27.3,  52.6,  77.9, 103.2, 128.5, 153.8, 179.1, 204.4,\n",
              "        229.7, 255. ]),\n",
              " <a list of 10 Patch objects>)"
            ]
          },
          "metadata": {},
          "execution_count": 56
        },
        {
          "output_type": "display_data",
          "data": {
            "text/plain": [
              "<Figure size 432x288 with 1 Axes>"
            ],
            "image/png": "[encoded data removed]"
          },
          "metadata": {
            "needs_background": "light"
          }
        }
      ]
    },
    {
      "cell_type": "code",
      "source": [],
      "metadata": {
        "id": "KBO6PULdFDei"
      },
      "execution_count": null,
      "outputs": []
    }
  ]
}